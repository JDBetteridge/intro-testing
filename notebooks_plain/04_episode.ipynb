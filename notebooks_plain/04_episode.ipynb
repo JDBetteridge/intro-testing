{
 "cells": [
  {
   "cell_type": "markdown",
   "metadata": {
    "slideshow": {
     "slide_type": "slide"
    }
   },
   "source": [
    "# Revision of Functions in Scripts"
   ]
  },
  {
   "cell_type": "markdown",
   "metadata": {
    "slideshow": {
     "slide_type": "slide"
    }
   },
   "source": [
    "## Overview\n",
    "- **Teaching:** 15 min\n",
    "- **Exercises:** 15 min\n",
    "\n",
    "**Questions**\n",
    "- How can we put our new assertions into a scipt that we can run or import?\n",
    "\n",
    "**Objectives**\n",
    "- Revise how to define a function in a script.\n",
    "- Recall how to use docstrings to auto-document your functions.\n",
    "- Know how to call the function within a script.\n",
    "- Know how to make a script importable."
   ]
  },
  {
   "cell_type": "markdown",
   "metadata": {
    "slideshow": {
     "slide_type": "slide"
    }
   },
   "source": [
    "In the previous lesson we wrote our function with its assertion in `ipython`. As we have discussed previously, it is much more useful to write these as a script which we can then call, or in the case of libraries import. In this lesson we will write our mean function as a script and revise how to display documentation and call the function.  We will then expore how to include our own libraries within other scripts revise why it is good practice to include the main part of the script in its own function.\n",
    "\n",
    "If you have not already created a directory `my_testing` in your `intro-testing` directory, do so and `cd` into it. Then create a new file called `mean.py`.  You are free to use the editor of your choice, e.g. `nano` or others on `linux`, however we would also like to introduce `notepad++` which may be more familiar to Windows users, and highlights code which can help us ensure we have the correct syntax.  Note that this will not be available on remote linux machines so you should be confident to use editors like `nano` if required."
   ]
  },
  {
   "cell_type": "markdown",
   "metadata": {
    "slideshow": {
     "slide_type": "slide"
    }
   },
   "source": [
    "Edit your new file `mean.py` so that it reads:\n",
    "\n",
    "```python\n",
    "#!/usr/bin/env python3\n",
    "\n",
    "def mean(sample):\n",
    "    '''\n",
    "    Takes a list of numbers, sample\n",
    "\n",
    "    and returns the mean.\n",
    "    '''\n",
    "\n",
    "    assert len(sample) != 0, \"Unable to take the mean of an empty list\"\n",
    "    for value in sample:\n",
    "        assert isinstance(value,int) or isinstance(value,float), \"Value in list is not a number.\"\n",
    "    sample_mean = sum(sample) / len(sample)\n",
    "    return sample_mean\n",
    "\n",
    "numbers = [1, 2, 3, 4, 5]\n",
    "\n",
    "print( mean(numbers) )\n",
    "\n",
    "no_numbers = []\n",
    "\n",
    "print( mean(no_numbers) )\n",
    "\n",
    "word_and_numbers = [1, 2, 3, 4, \"apple\"]\n",
    "\n",
    "print( mean(word_and_numbers) )\n",
    "```\n",
    "\n",
    "The first line, 'shebang', instructs the operating system that the script is requires `python3` and this is followed by the `mean` function that we defined in the previous episode.  We have then followed this with the examples we want to run to check that our function performs as expected."
   ]
  },
  {
   "cell_type": "markdown",
   "metadata": {
    "slideshow": {
     "slide_type": "slide"
    }
   },
   "source": [
    "Save you file and remember that to run your script we need to make sure the file permisions allow it be be **executed**:\n",
    "\n",
    "```bash\n",
    "% chmod +x mean.py\n",
    "% ls -l\n",
    "-rwxr-xr-x 1 rjg20 bath04 42 Nov 23 23:11 mean.py\n",
    "```"
   ]
  },
  {
   "cell_type": "markdown",
   "metadata": {
    "slideshow": {
     "slide_type": "slide"
    }
   },
   "source": [
    "Finally we can execute our script:\n",
    "```bash\n",
    "% ./mean.py\n",
    "```\n",
    "\n",
    "You should see an output that looks like:\n",
    "```brainfuck\n",
    "Traceback (most recent call last):\n",
    "  File \"./mean.py\", line 22, in <module>\n",
    "    mean(no_numbers)\n",
    "  File \"./mean.py\", line 10, in mean\n",
    "    assert len(sample) != 0, \"Unable to take the mean of an empty list\"\n",
    "AssertionError: Unable to take the mean of an empty list\n",
    "```\n",
    "\n",
    "Note that the `shebang` in the first line of the script instructs the operating system to run the script with `python3`.  We can also override this by specifying the interpreter we want to use.  Try the following and think about why we might choose to use `ipython3` if we are trying to track down errors:\n",
    "\n",
    "```bash\n",
    "% python3 mean.py\n",
    "% ipython3 mean.py\n",
    "```"
   ]
  },
  {
   "cell_type": "markdown",
   "metadata": {
    "slideshow": {
     "slide_type": "slide"
    }
   },
   "source": [
    "Our scripts executes each of line of code in turn and stops when it reaches the first `AssertionError`."
   ]
  },
  {
   "cell_type": "markdown",
   "metadata": {
    "slideshow": {
     "slide_type": "slide"
    }
   },
   "source": [
    "<div class=\"w3-bar\" style=\"background-color:#3b93a6\">\n",
    "<a href=\"{previous}\" class=\"w3-bar-item w3-button\"><h2><i class=\"fa fa-angle-double-left\"></i> Previous</h2></a>\n",
    "<a href=\"{index}\" class=\"w3-bar-item w3-button w3-center\" style=\"width:60%\"><h2>Schedule</h2></a>\n",
    "<a href=\"{next}\" class=\"w3-bar-item w3-button w3-right\"><h2>Next <i class=\"fa fa-angle-double-right\"></i></h2></a>\n",
    "</div>"
   ]
  },
  {
   "cell_type": "markdown",
   "metadata": {
    "slideshow": {
     "slide_type": "slide"
    }
   },
   "source": [
    "Here the {previous}, {index} (schedule) and {next} links are assigned when the notebooks are rendered.  You may want to change this but the build system currently expects to be able to assign these links during the build so significant changes may prevent a correct build.\n",
    "**N.B. that in both these cases the cell appear in the *plain* notebook as they do in *rendered* form.  This is markdown at work, not the build system.**  The build system makes use of this feature of markdown when it renders the plain notebooks and generates the correct links, which do not yet work above."
   ]
  },
  {
   "cell_type": "markdown",
   "metadata": {
    "slideshow": {
     "slide_type": "slide"
    }
   },
   "source": [
    "## Readme\n",
    "The README.md forms an essential part of any well maintained repository, and we feel should be included in the html rendering.  Also since `00_schedule.*` is not `index` when the `html` is built, you can't just link to the root directory of the gh-pages or hosting directory because there is no `index.html` for the browser to hit.  So we render the `README.md` to `index.html` in the `html` build directory and add a link to the first page, `00_scehdule.html`, proper of the lesson."
   ]
  },
  {
   "cell_type": "markdown",
   "metadata": {
    "slideshow": {
     "slide_type": "slide"
    }
   },
   "source": [
    "## Key Points\n",
    "- top and bottom are used to decorate the schedule and episodes to provide a consistent appearance.\n",
    "- Your README.md describing the project will be used as an index for the html so as always keep it up to date and informative."
   ]
  }
 ],
 "metadata": {
  "celltoolbar": "Slideshow",
  "kernelspec": {
   "display_name": "Python 3",
   "language": "python",
   "name": "python3"
  },
  "language_info": {
   "codemirror_mode": {
    "name": "ipython",
    "version": 3
   },
   "file_extension": ".py",
   "mimetype": "text/x-python",
   "name": "python",
   "nbconvert_exporter": "python",
   "pygments_lexer": "ipython3",
   "version": "3.6.6"
  }
 },
 "nbformat": 4,
 "nbformat_minor": 2
}
